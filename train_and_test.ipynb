{
 "cells": [
  {
   "cell_type": "code",
   "execution_count": 1,
   "id": "f54fb7a7-18f4-4886-a0e4-de8a8b3e84a0",
   "metadata": {},
   "outputs": [],
   "source": [
    "from wsw.data.data_sets import AudioImageSet\n",
    "from torch.utils.data import Dataset, DataLoader\n",
    "import definitions"
   ]
  },
  {
   "cell_type": "code",
   "execution_count": 22,
   "id": "3ddcf9f8-0651-4337-ac3f-6440ec96a780",
   "metadata": {},
   "outputs": [],
   "source": [
    "import torch\n",
    "import torch.nn as nn\n",
    "import torch.nn.functional as F\n",
    "\n",
    "class SpectrogramCNN(nn.Module):\n",
    "    def __init__(self, num_classes):\n",
    "        super(SpectrogramCNN, self).__init__()\n",
    "\n",
    "        # Convolutional layers\n",
    "        self.conv1 = nn.Conv2d(in_channels=1, out_channels=32, kernel_size=3, stride=1, padding=1)  # (128x130) -> (128x130)\n",
    "        self.conv2 = nn.Conv2d(in_channels=32, out_channels=64, kernel_size=3, stride=1, padding=1)  # (128x130) -> (128x130)\n",
    "        self.pool1 = nn.MaxPool2d(kernel_size=2, stride=2)  # (128x130) -> (64x65)\n",
    "\n",
    "        self.conv3 = nn.Conv2d(in_channels=64, out_channels=128, kernel_size=3, stride=1, padding=1)  # (64x65) -> (64x65)\n",
    "        self.conv4 = nn.Conv2d(in_channels=128, out_channels=256, kernel_size=3, stride=1, padding=1)  # (64x65) -> (64x65)\n",
    "        self.pool2 = nn.MaxPool2d(kernel_size=2, stride=2)  # (64x65) -> (32x32)\n",
    "\n",
    "        self.conv5 = nn.Conv2d(in_channels=256, out_channels=512, kernel_size=3, stride=1, padding=1)  # (32x32) -> (32x32)\n",
    "        self.pool3 = nn.MaxPool2d(kernel_size=2, stride=2)  # (32x32) -> (16x16)\n",
    "\n",
    "        # Fully connected layers\n",
    "        self.fc1 = nn.Linear(512 * 16 * 16, 256)\n",
    "        self.fc2 = nn.Linear(256, num_classes)\n",
    "\n",
    "        # Dropout to prevent overfitting\n",
    "        self.dropout = nn.Dropout(0.5)\n",
    "\n",
    "    def forward(self, x):\n",
    "        x = F.relu(self.conv1(x))\n",
    "        x = F.relu(self.conv2(x))\n",
    "        x = self.pool1(x)\n",
    "\n",
    "        x = F.relu(self.conv3(x))\n",
    "        x = F.relu(self.conv4(x))\n",
    "        x = self.pool2(x)\n",
    "\n",
    "        x = F.relu(self.conv5(x))\n",
    "        x = self.pool3(x)\n",
    "\n",
    "        x = x.view(x.size(0), -1)  # Flatten\n",
    "        x = F.relu(self.fc1(x))\n",
    "        x = self.dropout(x)\n",
    "        x = self.fc2(x)\n",
    "        return x\n",
    "    "
   ]
  },
  {
   "cell_type": "code",
   "execution_count": 36,
   "id": "4ba7a60f-8bfa-4044-ad5f-e81545408bfd",
   "metadata": {},
   "outputs": [
    {
     "name": "stderr",
     "output_type": "stream",
     "text": [
      "C:\\Users\\wesle\\source\\repos\\who-said-what\\wsw\\data\\data_sets.py:48: FutureWarning: You are using `torch.load` with `weights_only=False` (the current default value), which uses the default pickle module implicitly. It is possible to construct malicious pickle data which will execute arbitrary code during unpickling (See https://github.com/pytorch/pytorch/blob/main/SECURITY.md#untrusted-models for more details). In a future release, the default value for `weights_only` will be flipped to `True`. This limits the functions that could be executed during unpickling. Arbitrary objects will no longer be allowed to be loaded via this mode unless they are explicitly allowlisted by the user via `torch.serialization.add_safe_globals`. We recommend you start setting `weights_only=True` for any use case where you don't have full control of the loaded file. Please open an issue on GitHub for any issues related to this experimental feature.\n",
      "  image = torch.load(self.root_dir / file_name)\n"
     ]
    },
    {
     "data": {
      "text/plain": [
       "tensor([[[1.3944e-01, 3.5614e-01, 2.7137e-01,  ..., 2.5460e-01,\n",
       "          2.7713e-01, 3.1668e-01],\n",
       "         [2.4745e-02, 2.2964e-02, 4.9480e-04,  ..., 1.6078e-04,\n",
       "          4.5358e-03, 3.1693e-02],\n",
       "         [1.1281e-02, 1.0929e-02, 3.7795e-04,  ..., 7.9406e-05,\n",
       "          1.3883e-03, 1.1402e-02],\n",
       "         ...,\n",
       "         [6.5978e-08, 3.4526e-07, 4.8815e-07,  ..., 4.4905e-07,\n",
       "          5.6078e-07, 1.0221e-06],\n",
       "         [2.1297e-08, 1.3819e-07, 2.7233e-07,  ..., 2.7359e-07,\n",
       "          3.6968e-07, 9.9633e-07],\n",
       "         [2.7015e-09, 1.3799e-08, 2.4112e-08,  ..., 1.3423e-08,\n",
       "          1.3101e-07, 9.4424e-07]]])"
      ]
     },
     "execution_count": 36,
     "metadata": {},
     "output_type": "execute_result"
    }
   ],
   "source": [
    "training_data_dir = definitions.ROOT_DIR.joinpath(\"training_data\")\n",
    "spec_data = AudioImageSet(training_data_dir, \"annotations.csv\")\n",
    "\n",
    "sample = spec_data[0]\n",
    "img, label = sample.values()\n",
    "img"
   ]
  },
  {
   "cell_type": "code",
   "execution_count": 37,
   "id": "049f34ed-f7e4-42d7-9629-957bcd67eb88",
   "metadata": {},
   "outputs": [
    {
     "name": "stdout",
     "output_type": "stream",
     "text": [
      "Epoch [1/20], Loss: 0.9656\n",
      "Epoch [2/20], Loss: 0.7131\n",
      "Epoch [3/20], Loss: 0.6818\n",
      "Epoch [4/20], Loss: 0.5534\n",
      "Epoch [5/20], Loss: 0.7441\n",
      "Epoch [6/20], Loss: 0.6906\n",
      "Epoch [7/20], Loss: 0.0000\n",
      "Epoch [8/20], Loss: 0.0000\n",
      "Epoch [9/20], Loss: 0.0113\n",
      "Epoch [10/20], Loss: 0.0000\n",
      "Epoch [11/20], Loss: 0.0083\n",
      "Epoch [12/20], Loss: 0.0000\n",
      "Epoch [13/20], Loss: 0.0000\n",
      "Epoch [14/20], Loss: 0.0000\n",
      "Epoch [15/20], Loss: 0.0000\n",
      "Epoch [16/20], Loss: 0.0000\n",
      "Epoch [17/20], Loss: 0.0000\n",
      "Epoch [18/20], Loss: 0.0000\n",
      "Epoch [19/20], Loss: 0.0000\n",
      "Epoch [20/20], Loss: 0.0000\n"
     ]
    }
   ],
   "source": [
    "import torch.optim as optim\n",
    "from torch.utils.data import DataLoader, TensorDataset\n",
    "\n",
    "# Example parameters\n",
    "num_classes = 2  \n",
    "learning_rate = 0.001\n",
    "num_epochs = 10\n",
    "\n",
    "# Create model\n",
    "model = SpectrogramCNN(num_classes=num_classes)\n",
    "optimizer = optim.Adam(model.parameters(), lr=learning_rate)\n",
    "criterion = nn.CrossEntropyLoss()\n",
    "\n",
    "# Dummy dataset (replace with actual spectrogram dataset)\n",
    "train_loader = DataLoader(spec_data, batch_size=4, shuffle=True, num_workers=0)\n",
    "\n",
    "# Training loop\n",
    "for epoch in range(num_epochs):\n",
    "    for sample in train_loader:\n",
    "        images, labels = sample.values()\n",
    "        optimizer.zero_grad()\n",
    "        outputs = model(images)\n",
    "        loss = criterion(outputs, labels)\n",
    "        loss.backward()\n",
    "        optimizer.step()\n",
    "    \n",
    "    print(f\"Epoch [{epoch+1}/{num_epochs}], Loss: {loss.item():.4f}\")\n"
   ]
  },
  {
   "cell_type": "code",
   "execution_count": 39,
   "id": "705b10b9-fc70-4f1d-aaeb-3b6f6cbb7edd",
   "metadata": {},
   "outputs": [],
   "source": [
    "from torchvision.transforms import Compose\n",
    "from wsw.data.transforms import ClipAudio, MelSpecFromAudio, ToTensorImg"
   ]
  },
  {
   "cell_type": "code",
   "execution_count": 41,
   "id": "6348c470-97a7-4514-88a9-211ed4df3f4d",
   "metadata": {},
   "outputs": [],
   "source": [
    "tfm = Compose(\n",
    "    [\n",
    "        ClipAudio(target_length=3, sample_rate=22050),\n",
    "        MelSpecFromAudio(sample_rate=22050, n_fft=2048),\n",
    "        ToTensorImg()\n",
    "    ]\n",
    ")"
   ]
  },
  {
   "cell_type": "code",
   "execution_count": 56,
   "id": "d033a63d-6d4e-4869-b96b-014cf2c0c2e6",
   "metadata": {},
   "outputs": [],
   "source": [
    "import librosa\n",
    "wesley, sr = librosa.load(\"training_data/wes_test.m4a\", sr=22050)\n",
    "elaine, sr = librosa.load(\"training_data/Recording.m4a\", sr=22050)\n",
    "wes_spec = tfm(wesley)\n",
    "ela_spec = tfm(elaine)"
   ]
  },
  {
   "cell_type": "code",
   "execution_count": 59,
   "id": "58c3735f-7168-4a70-937b-82c878f66421",
   "metadata": {},
   "outputs": [
    {
     "data": {
      "text/plain": [
       "torch.Size([2, 1, 128, 130])"
      ]
     },
     "execution_count": 59,
     "metadata": {},
     "output_type": "execute_result"
    }
   ],
   "source": [
    "inputs = torch.concat([wes_spec, ela_spec]).unsqueeze(1)\n",
    "inputs.size()"
   ]
  },
  {
   "cell_type": "code",
   "execution_count": 60,
   "id": "f6ca690d-6bbd-44a5-a257-f3110344ab07",
   "metadata": {},
   "outputs": [],
   "source": [
    "logits = model(inputs)\n",
    "probs = torch.softmax(logits, dim=1)"
   ]
  },
  {
   "cell_type": "code",
   "execution_count": 61,
   "id": "c3b44056-f2a8-4683-84ab-6c87ff422fba",
   "metadata": {},
   "outputs": [
    {
     "data": {
      "text/plain": [
       "tensor([[6.9662e-09, 1.0000e+00],\n",
       "        [1.0000e+00, 2.0282e-14]], grad_fn=<SoftmaxBackward0>)"
      ]
     },
     "execution_count": 61,
     "metadata": {},
     "output_type": "execute_result"
    }
   ],
   "source": [
    "probs"
   ]
  },
  {
   "cell_type": "code",
   "execution_count": null,
   "id": "9d1b4cd8-1fcf-47a5-a527-74fb9110e15b",
   "metadata": {},
   "outputs": [],
   "source": []
  }
 ],
 "metadata": {
  "kernelspec": {
   "display_name": "wsw",
   "language": "python",
   "name": "wsw"
  },
  "language_info": {
   "codemirror_mode": {
    "name": "ipython",
    "version": 3
   },
   "file_extension": ".py",
   "mimetype": "text/x-python",
   "name": "python",
   "nbconvert_exporter": "python",
   "pygments_lexer": "ipython3",
   "version": "3.10.16"
  }
 },
 "nbformat": 4,
 "nbformat_minor": 5
}
